{
 "cells": [
  {
   "cell_type": "code",
   "execution_count": 1,
   "metadata": {
    "collapsed": true
   },
   "outputs": [],
   "source": [
    "import pandas\n",
    "import json"
   ]
  },
  {
   "cell_type": "code",
   "execution_count": 2,
   "metadata": {
    "collapsed": true
   },
   "outputs": [],
   "source": [
    "data_frame = pandas.read_csv(\n",
    "    './data_in/Stations_2017.csv',\n",
    "#    parse_dates=[\n",
    "#        'last_update',\n",
    "#        'input_date',\n",
    "#        'date_photo',\n",
    "#    ],\n",
    "    infer_datetime_format=True,\n",
    "    na_values=['']\n",
    ")"
   ]
  },
  {
   "cell_type": "code",
   "execution_count": 3,
   "metadata": {},
   "outputs": [
    {
     "data": {
      "text/html": [
       "<div>\n",
       "<style>\n",
       "    .dataframe thead tr:only-child th {\n",
       "        text-align: right;\n",
       "    }\n",
       "\n",
       "    .dataframe thead th {\n",
       "        text-align: left;\n",
       "    }\n",
       "\n",
       "    .dataframe tbody tr th {\n",
       "        vertical-align: top;\n",
       "    }\n",
       "</style>\n",
       "<table border=\"1\" class=\"dataframe\">\n",
       "  <thead>\n",
       "    <tr style=\"text-align: right;\">\n",
       "      <th></th>\n",
       "      <th>code</th>\n",
       "      <th>name</th>\n",
       "      <th>latitude</th>\n",
       "      <th>longitude</th>\n",
       "    </tr>\n",
       "  </thead>\n",
       "  <tbody>\n",
       "    <tr>\n",
       "      <th>0</th>\n",
       "      <td>7015</td>\n",
       "      <td>LaSalle / 4e avenue</td>\n",
       "      <td>45.430740</td>\n",
       "      <td>-73.591911</td>\n",
       "    </tr>\n",
       "    <tr>\n",
       "      <th>1</th>\n",
       "      <td>6714</td>\n",
       "      <td>LaSalle / Sénécal</td>\n",
       "      <td>45.434434</td>\n",
       "      <td>-73.586694</td>\n",
       "    </tr>\n",
       "    <tr>\n",
       "      <th>2</th>\n",
       "      <td>6712</td>\n",
       "      <td>LaSalle / Crawford</td>\n",
       "      <td>45.437914</td>\n",
       "      <td>-73.582740</td>\n",
       "    </tr>\n",
       "    <tr>\n",
       "      <th>3</th>\n",
       "      <td>6715</td>\n",
       "      <td>Natatorium (LaSalle / Rolland)</td>\n",
       "      <td>45.444408</td>\n",
       "      <td>-73.575568</td>\n",
       "    </tr>\n",
       "    <tr>\n",
       "      <th>4</th>\n",
       "      <td>7048</td>\n",
       "      <td>Métro Angrignon</td>\n",
       "      <td>45.446534</td>\n",
       "      <td>-73.603541</td>\n",
       "    </tr>\n",
       "  </tbody>\n",
       "</table>\n",
       "</div>"
      ],
      "text/plain": [
       "   code                            name   latitude  longitude\n",
       "0  7015             LaSalle / 4e avenue  45.430740 -73.591911\n",
       "1  6714               LaSalle / Sénécal  45.434434 -73.586694\n",
       "2  6712              LaSalle / Crawford  45.437914 -73.582740\n",
       "3  6715  Natatorium (LaSalle / Rolland)  45.444408 -73.575568\n",
       "4  7048                 Métro Angrignon  45.446534 -73.603541"
      ]
     },
     "execution_count": 3,
     "metadata": {},
     "output_type": "execute_result"
    }
   ],
   "source": [
    "data_frame[data_frame.columns[:10]].head()"
   ]
  },
  {
   "cell_type": "code",
   "execution_count": 4,
   "metadata": {},
   "outputs": [
    {
     "data": {
      "text/plain": [
       "code           int64\n",
       "name          object\n",
       "latitude     float64\n",
       "longitude    float64\n",
       "dtype: object"
      ]
     },
     "execution_count": 4,
     "metadata": {},
     "output_type": "execute_result"
    }
   ],
   "source": [
    "data_frame.dtypes"
   ]
  },
  {
   "cell_type": "code",
   "execution_count": 5,
   "metadata": {
    "collapsed": true
   },
   "outputs": [],
   "source": [
    "json_result_string = data_frame.to_json(\n",
    "    orient='records', \n",
    "    double_precision=12,\n",
    "    date_format='iso'\n",
    ")\n",
    "json_result = json.loads(json_result_string)"
   ]
  },
  {
   "cell_type": "code",
   "execution_count": 6,
   "metadata": {},
   "outputs": [],
   "source": [
    "geojson = {\n",
    "    'type': 'FeatureCollection',\n",
    "    'features': []\n",
    "}\n",
    "for record in json_result:\n",
    "    geojson['features'].append({\n",
    "        'type': 'Feature',\n",
    "        'id': record['code'],\n",
    "        'geometry': {\n",
    "            'type': 'Point',\n",
    "            'coordinates': [record['longitude'], record['latitude']],\n",
    "        },\n",
    "        'properties': record,\n",
    "    })"
   ]
  },
  {
   "cell_type": "code",
   "execution_count": 7,
   "metadata": {
    "collapsed": true
   },
   "outputs": [],
   "source": [
    "with open('./data_out/Stations_2017.geojson', 'w') as f:\n",
    "    f.write(json.dumps(geojson, indent=2))"
   ]
  },
  {
   "cell_type": "code",
   "execution_count": null,
   "metadata": {
    "collapsed": true
   },
   "outputs": [],
   "source": []
  }
 ],
 "metadata": {
  "kernelspec": {
   "display_name": "Python 3",
   "language": "python",
   "name": "python3"
  },
  "language_info": {
   "codemirror_mode": {
    "name": "ipython",
    "version": 3
   },
   "file_extension": ".py",
   "mimetype": "text/x-python",
   "name": "python",
   "nbconvert_exporter": "python",
   "pygments_lexer": "ipython3",
   "version": "3.6.3"
  }
 },
 "nbformat": 4,
 "nbformat_minor": 2
}
