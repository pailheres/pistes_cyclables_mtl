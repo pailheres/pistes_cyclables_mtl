{
 "cells": [
  {
   "cell_type": "code",
   "execution_count": 3,
   "metadata": {},
   "outputs": [],
   "source": [
    "import pandas as pd\n",
    "#import geopandas as gpd\n",
    "#import fiona#; help(fiona.open); fiona.supported_drivers\n",
    "import pprint\n",
    "import re\n",
    "import json\n",
    "import math\n",
    "from pyproj import Proj, transform  #to transform EPSG2950 to global coordinates"
   ]
  },
  {
   "cell_type": "code",
   "execution_count": 4,
   "metadata": {
    "collapsed": true
   },
   "outputs": [],
   "source": [
    "with open (\"data_in/reseau_cyclable_2018_janv2018.geojson\", \"r\") as myfile:\n",
    "    datastring=myfile.read()"
   ]
  },
  {
   "cell_type": "code",
   "execution_count": 6,
   "metadata": {
    "collapsed": true
   },
   "outputs": [],
   "source": [
    "data = json.loads(datastring)\n",
    "data2 = data"
   ]
  },
  {
   "cell_type": "code",
   "execution_count": 7,
   "metadata": {},
   "outputs": [
    {
     "data": {
      "text/plain": [
       "{'coordinates': [[[297751.63193139207, 5043634.290688977, 0.0],\n",
       "   [297677.37620826124, 5043684.962709269, 0.0]]],\n",
       " 'type': 'MultiLineString'}"
      ]
     },
     "execution_count": 7,
     "metadata": {},
     "output_type": "execute_result"
    }
   ],
   "source": [
    "data2['features'][0]['geometry']"
   ]
  },
  {
   "cell_type": "code",
   "execution_count": 8,
   "metadata": {},
   "outputs": [
    {
     "data": {
      "text/plain": [
       "{'ID': 8510.0,\n",
       " 'ID_TRC_GEO': 1230109.0,\n",
       " 'LONGUEUR': 90.0,\n",
       " 'NBR_VOIE': 2.0,\n",
       " 'NOM_ARR_VI': 'Le Plateau-Mont-Royal',\n",
       " 'PROTEGE_4S': 'OUI',\n",
       " 'SAISONS4': 'OUI',\n",
       " 'SEPARATEUR': 'M',\n",
       " 'TYPE_VOIE': 4.0,\n",
       " 'TYPE_VOIE2': 0.0,\n",
       " 'Ville_MTL': 'OUI'}"
      ]
     },
     "execution_count": 8,
     "metadata": {},
     "output_type": "execute_result"
    }
   ],
   "source": [
    "data2['features'][0]['properties']"
   ]
  },
  {
   "cell_type": "code",
   "execution_count": 9,
   "metadata": {
    "collapsed": true
   },
   "outputs": [],
   "source": [
    "#convert to global format\n",
    "inProj = Proj(init='epsg:2950')\n",
    "outProj = Proj(init='epsg:4326')\n",
    "\n",
    "#ii=0\n",
    "for s in data2['features'] :\n",
    "    try:\n",
    "        for c in s['geometry']['coordinates'] :\n",
    "            for cc in c :\n",
    "                #transform from epsg:2950 projection to global coordinates epsg:4326\n",
    "                x2,y2 = transform(inProj,outProj,cc[0],cc[1])\n",
    "                #print (cc[0], \", \", cc[1], \"   :    \", x2, \", \", y2)\n",
    "                #reput in file\n",
    "                cc[0] = x2\n",
    "                cc[1] = y2\n",
    "                #ii = ii + 1\n",
    "    except:\n",
    "        print(\"Une erreur est survenue... laquelle ?\")\n",
    "    #if (ii > 40):\n",
    "    #    break\n"
   ]
  },
  {
   "cell_type": "code",
   "execution_count": 10,
   "metadata": {
    "collapsed": true
   },
   "outputs": [],
   "source": [
    "with open('data_out/reseau_cyclable_2018_janv2018.geojson', 'w') as outfile:\n",
    "    json.dump(data2, outfile)"
   ]
  },
  {
   "cell_type": "code",
   "execution_count": null,
   "metadata": {},
   "outputs": [],
   "source": []
  },
  {
   "cell_type": "code",
   "execution_count": null,
   "metadata": {
    "collapsed": true
   },
   "outputs": [],
   "source": []
  },
  {
   "cell_type": "code",
   "execution_count": null,
   "metadata": {
    "collapsed": true
   },
   "outputs": [],
   "source": []
  },
  {
   "cell_type": "code",
   "execution_count": null,
   "metadata": {
    "collapsed": true
   },
   "outputs": [],
   "source": []
  },
  {
   "cell_type": "code",
   "execution_count": null,
   "metadata": {
    "collapsed": true
   },
   "outputs": [],
   "source": []
  },
  {
   "cell_type": "code",
   "execution_count": null,
   "metadata": {},
   "outputs": [],
   "source": []
  },
  {
   "cell_type": "code",
   "execution_count": null,
   "metadata": {
    "collapsed": true
   },
   "outputs": [],
   "source": []
  }
 ],
 "metadata": {
  "kernelspec": {
   "display_name": "Python 3",
   "language": "python",
   "name": "python3"
  },
  "language_info": {
   "codemirror_mode": {
    "name": "ipython",
    "version": 3
   },
   "file_extension": ".py",
   "mimetype": "text/x-python",
   "name": "python",
   "nbconvert_exporter": "python",
   "pygments_lexer": "ipython3",
   "version": "3.6.3"
  }
 },
 "nbformat": 4,
 "nbformat_minor": 2
}
